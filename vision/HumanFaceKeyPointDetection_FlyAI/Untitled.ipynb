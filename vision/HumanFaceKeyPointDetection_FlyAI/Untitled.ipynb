{
 "cells": [
  {
   "cell_type": "code",
   "execution_count": 1,
   "metadata": {},
   "outputs": [],
   "source": [
    "# -*- coding: utf-8 -*\n",
    "# author Huangyin\n",
    "\n",
    "from __future__ import print_function\n",
    "import argparse\n",
    "import torch\n",
    "import torch.nn as nn\n",
    "import torch.nn.functional as F\n",
    "import torch.optim as optim\n",
    "import torchvision\n",
    "from torchvision import transforms\n",
    "from torch.optim import Adam\n",
    "from torch.autograd import Variable\n",
    "\n",
    "from flyai.dataset import Dataset\n",
    "from flyai.source.base import DATA_PATH\n",
    "\n",
    "from model import Model\n",
    "from path import MODEL_PATH\n",
    "from processor import DatasetFlyAI\n",
    "from utils import Bunch\n",
    "    \n",
    "def train(args, model, device, train_loader,loss_fn, optimizer, epoch):\n",
    "    model.train()\n",
    "    for batch_idx, (data, target) in enumerate(train_loader):\n",
    "        data, target = data.to(device), target.to(device)\n",
    "        optimizer.zero_grad()\n",
    "        output = model(data)\n",
    "        loss = loss_fn(output, target)\n",
    "        loss.backward()\n",
    "        optimizer.step()\n",
    "        if batch_idx % args.log_interval == 0:\n",
    "            print('Train Epoch: {} [{}/{} ({:.0f}%)]\\tLoss: {:.6f}'.format(\n",
    "                epoch, batch_idx * len(data), len(train_loader.dataset),\n",
    "                100. * batch_idx / len(train_loader), loss.item()))\n",
    "        if epoch==0:\n",
    "            print(\"first epoch\")\n",
    "            break\n",
    "\n",
    "def test(args, model, device, test_loader,loss_fn):\n",
    "    model.eval()\n",
    "    test_loss = 0\n",
    "    correct = 0\n",
    "    with torch.no_grad():\n",
    "        for data, target in test_loader:\n",
    "            data, target = data.to(device), target.to(device)\n",
    "            output = model(data)\n",
    "            test_loss += loss_fn(output, target, reduction='sum').item() # sum up batch loss\n",
    "            pred = output.argmax(dim=1, keepdim=True) # get the index of the max log-probability\n",
    "            correct += pred.eq(target.view_as(pred)).sum().item()\n",
    "\n",
    "    test_loss /= len(test_loader.dataset)\n",
    "\n",
    "    print('\\nTest set: Average loss: {:.4f}, Accuracy: {}/{} ({:.0f}%)\\n'.format(\n",
    "        test_loss, correct, len(test_loader.dataset),\n",
    "        100. * correct / len(test_loader.dataset)))\n",
    "\n",
    "    \n",
    "def pretrained_net(net,class_num):\n",
    "    if net=='densenet121':\n",
    "        cnn = torchvision.models.densenet121(pretrained=True)\n",
    "        for param in cnn.parameters():\n",
    "            param.requires_grad = False\n",
    "        num_features = cnn.classifier.in_features\n",
    "        cnn.classifier = nn.Linear(num_features, class_num)\n",
    "    elif net=='resnet34':\n",
    "        cnn = torchvision.models.resnet34(pretrained=True)\n",
    "        for param in cnn.parameters():\n",
    "            param.requires_grad = False\n",
    "        num_features = cnn.fc.in_features\n",
    "        cnn.fc = nn.Sequential(nn.Linear(num_features, class_num),nn.Sigmoid())\n",
    "    return cnn\n",
    "\n",
    "def score(p,y):\n",
    "    _,yp = torch.max(p.data,1)\n",
    "    return (yp == y).sum().item()/len(y)\n",
    "\n",
    "\n",
    "    \n",
    "def eval(model, x_test, y_test):\n",
    "    net.eval()\n",
    "    batch_eval = model.batch_iter(x_test, y_test)\n",
    "    total_acc = 0.0\n",
    "    data_len = len(x_test)\n",
    "    for x_batch, y_batch in batch_eval:\n",
    "        batch_len = len(x_batch)\n",
    "        outputs = net(x_batch)\n",
    "        _, prediction = torch.max(outputs.data, 1)\n",
    "        correct = (prediction == y_batch).sum().item()\n",
    "        acc = correct / batch_len\n",
    "        total_acc += acc * batch_len\n",
    "    return total_acc / data_len\n",
    "       "
   ]
  },
  {
   "cell_type": "code",
   "execution_count": 2,
   "metadata": {},
   "outputs": [
    {
     "name": "stdout",
     "output_type": "stream",
     "text": [
      "1.settings {'net': 'resnet34', 'nc': 10, 'lr': 0.001, 'seed': 1, 'log_interval': 100, 'save_model': True}\n",
      "32 3.125\n",
      "2. load data. train_dataset 100,batch 3, val_dataset 100, batch 3.\n",
      "3.load net structure: resnet34, number of class: 10\n"
     ]
    },
    {
     "name": "stderr",
     "output_type": "stream",
     "text": [
      "/home/changebio/anaconda3/envs/fastv1/lib/python3.6/site-packages/torchvision/models/densenet.py:212: UserWarning: nn.init.kaiming_normal is now deprecated in favor of nn.init.kaiming_normal_.\n",
      "  nn.init.kaiming_normal(m.weight.data)\n"
     ]
    },
    {
     "name": "stdout",
     "output_type": "stream",
     "text": [
      "4.optimize and loss. learning rate 0.001\n",
      "5.***************train and test*********************\n"
     ]
    }
   ],
   "source": [
    "parser = argparse.ArgumentParser()\n",
    "parser.add_argument(\"-e\", \"--EPOCHS\", default=10, type=int, help=\"train epochs\")\n",
    "parser.add_argument(\"-b\", \"--BATCH\", default=32, type=int, help=\"batch size\")\n",
    "args = parser.parse_args([])\n",
    "\n",
    "\n",
    "#settings\n",
    "settings = {\n",
    "'net':'resnet34',\n",
    "'nc':10,    \n",
    "'lr': 0.001,\n",
    "'seed': 1,\n",
    "'log_interval': 100,\n",
    "'save_model': True}\n",
    "print(\"1.settings\",settings)\n",
    "settings = Bunch(settings)\n",
    "use_cuda = torch.cuda.is_available()\n",
    "torch.manual_seed(settings.seed)\n",
    "device = torch.device(\"cuda\" if use_cuda else \"cpu\")\n",
    "kwargs = {'num_workers': 0, 'pin_memory': True} if use_cuda else {}\n",
    "\n",
    "#load data\n",
    "data = Dataset()\n",
    "model = Model(data)\n",
    "normalize = transforms.Normalize(mean=[0.485, 0.456, 0.406],std=[0.229, 0.224, 0.225])\n",
    "train_transforms= transforms.Compose([\n",
    "    #transforms.RandomResizedCrop(224),\n",
    "    #transforms.RandomHorizontalFlip(),\n",
    "    transforms.ToTensor(),\n",
    "    normalize,\n",
    "])\n",
    "val_transforms = transforms.Compose([\n",
    "    #transforms.Resize(256),\n",
    "    #transforms.CenterCrop(224),\n",
    "    transforms.ToTensor(),\n",
    "    normalize,\n",
    "])\n",
    "train_dataset = DatasetFlyAI(root=DATA_PATH,df=data.db.source.data,transform=train_transforms)\n",
    "val_dataset = DatasetFlyAI(root=DATA_PATH,df=data.db.source.test,transform=val_transforms)\n",
    "train_loader = torch.utils.data.DataLoader(train_dataset,\n",
    "    batch_size=args.BATCH, shuffle=True, **kwargs)\n",
    "test_loader = torch.utils.data.DataLoader(val_dataset,\n",
    "    batch_size=args.BATCH, shuffle=True, **kwargs)\n",
    "n_train = len(train_dataset)\n",
    "batch_train = n_train/args.BATCH\n",
    "print(args.BATCH,n_train/args.BATCH)\n",
    "n_test = len(val_dataset)\n",
    "batch_test = n_test/args.BATCH\n",
    "print(\"2. load data. train_dataset %d,batch %d, val_dataset %d, batch %d.\" % (n_train,batch_train,n_test,batch_test))\n",
    "\n",
    "#load net structure\n",
    "print(\"3.load net structure: %s, number of class: %d\" % (settings.net,settings.nc))\n",
    "net = pretrained_net(settings.net,settings.nc)\n",
    "net = pretrained_net('densenet121',256)\n",
    "gpu = torch.cuda.is_available()\n",
    "if gpu:\n",
    "    net.cuda()\n",
    "#optimize and loss\n",
    "print(\"4.optimize and loss. learning rate %g\" % settings.lr)\n",
    "optimizer = Adam(net.parameters(), lr=settings.lr, betas=(0.9, 0.999)) \n",
    "#optimizer = Adam(net.parameters(), lr=0.001, betas=(0.9, 0.999))  \n",
    "loss_fn = nn.MSELoss()\n",
    "\n",
    "#train and test\n",
    "print(\"5.***************train and test*********************\")\n",
    "best_accuracy = 0\n",
    "train_iter = iter(train_loader)\n",
    "batch_idx = 0"
   ]
  },
  {
   "cell_type": "code",
   "execution_count": 6,
   "metadata": {},
   "outputs": [
    {
     "data": {
      "text/plain": [
       "4"
      ]
     },
     "execution_count": 6,
     "metadata": {},
     "output_type": "execute_result"
    }
   ],
   "source": [
    "len(train_iter)"
   ]
  },
  {
   "cell_type": "code",
   "execution_count": 7,
   "metadata": {},
   "outputs": [
    {
     "data": {
      "text/plain": [
       "(tensor([[[ 0.2111,  0.0227, -0.6109,  ..., -1.3815, -1.2617, -1.2617],\n",
       "          [ 0.3481,  0.2282, -0.3712,  ..., -1.2959, -1.2445, -1.2445],\n",
       "          [ 0.3481,  0.3652, -0.0629,  ..., -1.2103, -1.2274, -1.2274],\n",
       "          ...,\n",
       "          [ 0.2111,  0.0227, -0.0116,  ...,  0.1254,  0.0912,  0.0912],\n",
       "          [ 0.1254,  0.0398, -0.1143,  ...,  0.0569,  0.0569,  0.0569],\n",
       "          [ 0.1254,  0.0398, -0.1143,  ...,  0.0569,  0.0569,  0.0569]],\n",
       " \n",
       "         [[-0.2675, -0.3901, -0.8978,  ..., -1.7381, -1.6856, -1.6856],\n",
       "          [-0.1975, -0.2500, -0.6877,  ..., -1.7031, -1.6681, -1.6681],\n",
       "          [-0.2850, -0.1975, -0.4601,  ..., -1.6331, -1.6506, -1.6506],\n",
       "          ...,\n",
       "          [ 0.2752,  0.0826,  0.0476,  ...,  0.2227,  0.1877,  0.1877],\n",
       "          [ 0.1527,  0.0651, -0.0924,  ...,  0.1527,  0.1527,  0.1527],\n",
       "          [ 0.1527,  0.0651, -0.0924,  ...,  0.1527,  0.1527,  0.1527]],\n",
       " \n",
       "         [[-0.1138, -0.2532, -0.7761,  ..., -1.4907, -1.4559, -1.4907],\n",
       "          [-0.0615, -0.1312, -0.5844,  ..., -1.4384, -1.4384, -1.4733],\n",
       "          [-0.2184, -0.1487, -0.4275,  ..., -1.4036, -1.4559, -1.4559],\n",
       "          ...,\n",
       "          [ 0.5136,  0.3219,  0.2871,  ...,  0.4962,  0.4614,  0.4614],\n",
       "          [ 0.4091,  0.3219,  0.1651,  ...,  0.4265,  0.4265,  0.4265],\n",
       "          [ 0.4091,  0.3219,  0.1651,  ...,  0.4265,  0.4265,  0.4265]]]),\n",
       " array([67, 72, 110, 72, 87, 102, 67, 110, 110, 111], dtype=object))"
      ]
     },
     "execution_count": 7,
     "metadata": {},
     "output_type": "execute_result"
    }
   ],
   "source": [
    "train_dataset.__getitem__(1)"
   ]
  },
  {
   "cell_type": "code",
   "execution_count": 3,
   "metadata": {},
   "outputs": [
    {
     "ename": "TypeError",
     "evalue": "batch must contain tensors, numbers, dicts or lists; found object",
     "output_type": "error",
     "traceback": [
      "\u001b[0;31m---------------------------------------------------------------------------\u001b[0m",
      "\u001b[0;31mTypeError\u001b[0m                                 Traceback (most recent call last)",
      "\u001b[0;32m<ipython-input-3-2cc109efdbc8>\u001b[0m in \u001b[0;36m<module>\u001b[0;34m\u001b[0m\n\u001b[0;32m----> 1\u001b[0;31m \u001b[0mx\u001b[0m\u001b[0;34m,\u001b[0m\u001b[0my\u001b[0m \u001b[0;34m=\u001b[0m \u001b[0mnext\u001b[0m\u001b[0;34m(\u001b[0m\u001b[0mtrain_iter\u001b[0m\u001b[0;34m)\u001b[0m\u001b[0;34m\u001b[0m\u001b[0m\n\u001b[0m",
      "\u001b[0;32m~/anaconda3/envs/fastv1/lib/python3.6/site-packages/torch/utils/data/dataloader.py\u001b[0m in \u001b[0;36m__next__\u001b[0;34m(self)\u001b[0m\n\u001b[1;32m    613\u001b[0m         \u001b[0;32mif\u001b[0m \u001b[0mself\u001b[0m\u001b[0;34m.\u001b[0m\u001b[0mnum_workers\u001b[0m \u001b[0;34m==\u001b[0m \u001b[0;36m0\u001b[0m\u001b[0;34m:\u001b[0m  \u001b[0;31m# same-process loading\u001b[0m\u001b[0;34m\u001b[0m\u001b[0m\n\u001b[1;32m    614\u001b[0m             \u001b[0mindices\u001b[0m \u001b[0;34m=\u001b[0m \u001b[0mnext\u001b[0m\u001b[0;34m(\u001b[0m\u001b[0mself\u001b[0m\u001b[0;34m.\u001b[0m\u001b[0msample_iter\u001b[0m\u001b[0;34m)\u001b[0m  \u001b[0;31m# may raise StopIteration\u001b[0m\u001b[0;34m\u001b[0m\u001b[0m\n\u001b[0;32m--> 615\u001b[0;31m             \u001b[0mbatch\u001b[0m \u001b[0;34m=\u001b[0m \u001b[0mself\u001b[0m\u001b[0;34m.\u001b[0m\u001b[0mcollate_fn\u001b[0m\u001b[0;34m(\u001b[0m\u001b[0;34m[\u001b[0m\u001b[0mself\u001b[0m\u001b[0;34m.\u001b[0m\u001b[0mdataset\u001b[0m\u001b[0;34m[\u001b[0m\u001b[0mi\u001b[0m\u001b[0;34m]\u001b[0m \u001b[0;32mfor\u001b[0m \u001b[0mi\u001b[0m \u001b[0;32min\u001b[0m \u001b[0mindices\u001b[0m\u001b[0;34m]\u001b[0m\u001b[0;34m)\u001b[0m\u001b[0;34m\u001b[0m\u001b[0m\n\u001b[0m\u001b[1;32m    616\u001b[0m             \u001b[0;32mif\u001b[0m \u001b[0mself\u001b[0m\u001b[0;34m.\u001b[0m\u001b[0mpin_memory\u001b[0m\u001b[0;34m:\u001b[0m\u001b[0;34m\u001b[0m\u001b[0m\n\u001b[1;32m    617\u001b[0m                 \u001b[0mbatch\u001b[0m \u001b[0;34m=\u001b[0m \u001b[0mpin_memory_batch\u001b[0m\u001b[0;34m(\u001b[0m\u001b[0mbatch\u001b[0m\u001b[0;34m)\u001b[0m\u001b[0;34m\u001b[0m\u001b[0m\n",
      "\u001b[0;32m~/anaconda3/envs/fastv1/lib/python3.6/site-packages/torch/utils/data/dataloader.py\u001b[0m in \u001b[0;36mdefault_collate\u001b[0;34m(batch)\u001b[0m\n\u001b[1;32m    230\u001b[0m     \u001b[0;32melif\u001b[0m \u001b[0misinstance\u001b[0m\u001b[0;34m(\u001b[0m\u001b[0mbatch\u001b[0m\u001b[0;34m[\u001b[0m\u001b[0;36m0\u001b[0m\u001b[0;34m]\u001b[0m\u001b[0;34m,\u001b[0m \u001b[0mcontainer_abcs\u001b[0m\u001b[0;34m.\u001b[0m\u001b[0mSequence\u001b[0m\u001b[0;34m)\u001b[0m\u001b[0;34m:\u001b[0m\u001b[0;34m\u001b[0m\u001b[0m\n\u001b[1;32m    231\u001b[0m         \u001b[0mtransposed\u001b[0m \u001b[0;34m=\u001b[0m \u001b[0mzip\u001b[0m\u001b[0;34m(\u001b[0m\u001b[0;34m*\u001b[0m\u001b[0mbatch\u001b[0m\u001b[0;34m)\u001b[0m\u001b[0;34m\u001b[0m\u001b[0m\n\u001b[0;32m--> 232\u001b[0;31m         \u001b[0;32mreturn\u001b[0m \u001b[0;34m[\u001b[0m\u001b[0mdefault_collate\u001b[0m\u001b[0;34m(\u001b[0m\u001b[0msamples\u001b[0m\u001b[0;34m)\u001b[0m \u001b[0;32mfor\u001b[0m \u001b[0msamples\u001b[0m \u001b[0;32min\u001b[0m \u001b[0mtransposed\u001b[0m\u001b[0;34m]\u001b[0m\u001b[0;34m\u001b[0m\u001b[0m\n\u001b[0m\u001b[1;32m    233\u001b[0m \u001b[0;34m\u001b[0m\u001b[0m\n\u001b[1;32m    234\u001b[0m     \u001b[0;32mraise\u001b[0m \u001b[0mTypeError\u001b[0m\u001b[0;34m(\u001b[0m\u001b[0;34m(\u001b[0m\u001b[0merror_msg\u001b[0m\u001b[0;34m.\u001b[0m\u001b[0mformat\u001b[0m\u001b[0;34m(\u001b[0m\u001b[0mtype\u001b[0m\u001b[0;34m(\u001b[0m\u001b[0mbatch\u001b[0m\u001b[0;34m[\u001b[0m\u001b[0;36m0\u001b[0m\u001b[0;34m]\u001b[0m\u001b[0;34m)\u001b[0m\u001b[0;34m)\u001b[0m\u001b[0;34m)\u001b[0m\u001b[0;34m)\u001b[0m\u001b[0;34m\u001b[0m\u001b[0m\n",
      "\u001b[0;32m~/anaconda3/envs/fastv1/lib/python3.6/site-packages/torch/utils/data/dataloader.py\u001b[0m in \u001b[0;36m<listcomp>\u001b[0;34m(.0)\u001b[0m\n\u001b[1;32m    230\u001b[0m     \u001b[0;32melif\u001b[0m \u001b[0misinstance\u001b[0m\u001b[0;34m(\u001b[0m\u001b[0mbatch\u001b[0m\u001b[0;34m[\u001b[0m\u001b[0;36m0\u001b[0m\u001b[0;34m]\u001b[0m\u001b[0;34m,\u001b[0m \u001b[0mcontainer_abcs\u001b[0m\u001b[0;34m.\u001b[0m\u001b[0mSequence\u001b[0m\u001b[0;34m)\u001b[0m\u001b[0;34m:\u001b[0m\u001b[0;34m\u001b[0m\u001b[0m\n\u001b[1;32m    231\u001b[0m         \u001b[0mtransposed\u001b[0m \u001b[0;34m=\u001b[0m \u001b[0mzip\u001b[0m\u001b[0;34m(\u001b[0m\u001b[0;34m*\u001b[0m\u001b[0mbatch\u001b[0m\u001b[0;34m)\u001b[0m\u001b[0;34m\u001b[0m\u001b[0m\n\u001b[0;32m--> 232\u001b[0;31m         \u001b[0;32mreturn\u001b[0m \u001b[0;34m[\u001b[0m\u001b[0mdefault_collate\u001b[0m\u001b[0;34m(\u001b[0m\u001b[0msamples\u001b[0m\u001b[0;34m)\u001b[0m \u001b[0;32mfor\u001b[0m \u001b[0msamples\u001b[0m \u001b[0;32min\u001b[0m \u001b[0mtransposed\u001b[0m\u001b[0;34m]\u001b[0m\u001b[0;34m\u001b[0m\u001b[0m\n\u001b[0m\u001b[1;32m    233\u001b[0m \u001b[0;34m\u001b[0m\u001b[0m\n\u001b[1;32m    234\u001b[0m     \u001b[0;32mraise\u001b[0m \u001b[0mTypeError\u001b[0m\u001b[0;34m(\u001b[0m\u001b[0;34m(\u001b[0m\u001b[0merror_msg\u001b[0m\u001b[0;34m.\u001b[0m\u001b[0mformat\u001b[0m\u001b[0;34m(\u001b[0m\u001b[0mtype\u001b[0m\u001b[0;34m(\u001b[0m\u001b[0mbatch\u001b[0m\u001b[0;34m[\u001b[0m\u001b[0;36m0\u001b[0m\u001b[0;34m]\u001b[0m\u001b[0;34m)\u001b[0m\u001b[0;34m)\u001b[0m\u001b[0;34m)\u001b[0m\u001b[0;34m)\u001b[0m\u001b[0;34m\u001b[0m\u001b[0m\n",
      "\u001b[0;32m~/anaconda3/envs/fastv1/lib/python3.6/site-packages/torch/utils/data/dataloader.py\u001b[0m in \u001b[0;36mdefault_collate\u001b[0;34m(batch)\u001b[0m\n\u001b[1;32m    214\u001b[0m             \u001b[0;31m# array of string classes and object\u001b[0m\u001b[0;34m\u001b[0m\u001b[0;34m\u001b[0m\u001b[0m\n\u001b[1;32m    215\u001b[0m             \u001b[0;32mif\u001b[0m \u001b[0mre\u001b[0m\u001b[0;34m.\u001b[0m\u001b[0msearch\u001b[0m\u001b[0;34m(\u001b[0m\u001b[0;34m'[SaUO]'\u001b[0m\u001b[0;34m,\u001b[0m \u001b[0melem\u001b[0m\u001b[0;34m.\u001b[0m\u001b[0mdtype\u001b[0m\u001b[0;34m.\u001b[0m\u001b[0mstr\u001b[0m\u001b[0;34m)\u001b[0m \u001b[0;32mis\u001b[0m \u001b[0;32mnot\u001b[0m \u001b[0;32mNone\u001b[0m\u001b[0;34m:\u001b[0m\u001b[0;34m\u001b[0m\u001b[0m\n\u001b[0;32m--> 216\u001b[0;31m                 \u001b[0;32mraise\u001b[0m \u001b[0mTypeError\u001b[0m\u001b[0;34m(\u001b[0m\u001b[0merror_msg\u001b[0m\u001b[0;34m.\u001b[0m\u001b[0mformat\u001b[0m\u001b[0;34m(\u001b[0m\u001b[0melem\u001b[0m\u001b[0;34m.\u001b[0m\u001b[0mdtype\u001b[0m\u001b[0;34m)\u001b[0m\u001b[0;34m)\u001b[0m\u001b[0;34m\u001b[0m\u001b[0m\n\u001b[0m\u001b[1;32m    217\u001b[0m \u001b[0;34m\u001b[0m\u001b[0m\n\u001b[1;32m    218\u001b[0m             \u001b[0;32mreturn\u001b[0m \u001b[0mtorch\u001b[0m\u001b[0;34m.\u001b[0m\u001b[0mstack\u001b[0m\u001b[0;34m(\u001b[0m\u001b[0;34m[\u001b[0m\u001b[0mtorch\u001b[0m\u001b[0;34m.\u001b[0m\u001b[0mfrom_numpy\u001b[0m\u001b[0;34m(\u001b[0m\u001b[0mb\u001b[0m\u001b[0;34m)\u001b[0m \u001b[0;32mfor\u001b[0m \u001b[0mb\u001b[0m \u001b[0;32min\u001b[0m \u001b[0mbatch\u001b[0m\u001b[0;34m]\u001b[0m\u001b[0;34m,\u001b[0m \u001b[0;36m0\u001b[0m\u001b[0;34m)\u001b[0m\u001b[0;34m\u001b[0m\u001b[0m\n",
      "\u001b[0;31mTypeError\u001b[0m: batch must contain tensors, numbers, dicts or lists; found object"
     ]
    }
   ],
   "source": [
    "x,y = next(train_iter)"
   ]
  },
  {
   "cell_type": "code",
   "execution_count": null,
   "metadata": {},
   "outputs": [],
   "source": [
    "for i in range(args.EPOCHS):\n",
    "    #net.train()\n",
    "    #x_train, y_train, x_test, y_test = data.next_batch(args.BATCH) \n",
    "    #x_train = torch.from_numpy(x_train)\n",
    "    #y_train = torch.from_numpy(y_train)\n",
    "    #x_train = x_train.float()\n",
    "    try:\n",
    "        batch_idx +=1\n",
    "        x_train, y_train = next(train_iter)\n",
    "        y_train = y_train.float()/178\n",
    "        #print(batch_idx,\"data len\",len(x_train),len(y_train))\n",
    "    except:\n",
    "        batch_idx = 0\n",
    "        train_iter = iter(train_loader)\n",
    "        x_train, y_train = next(train_iter)\n",
    "        y_train = y_train.float()/178\n",
    "        print(len(x_train),len(y_train),\"data len\")\n",
    "\n",
    "    if gpu:\n",
    "        x_train = Variable(x_train.cuda())\n",
    "        y_train = Variable(y_train.cuda())\n",
    "\n",
    "\n",
    "    outputs = net(x_train)\n",
    "    optimizer.zero_grad()\n",
    "    loss = loss_fn(outputs, y_train)\n",
    "    loss.backward()\n",
    "    optimizer.step()\n",
    "    if batch_idx % settings.log_interval == 0:\n",
    "        print('Train Epoch: {} [{}/{} ({:.0f}%)]\\tLoss: {:.6f}'.format(\n",
    "            i, batch_idx * len(x_train), len(train_loader.dataset),\n",
    "            100. * batch_idx / len(train_loader), loss.item()))\n",
    "\n",
    "if settings.save_model:       \n",
    "    model.save_model(net, MODEL_PATH, overwrite=True)"
   ]
  }
 ],
 "metadata": {
  "kernelspec": {
   "display_name": "Python 3",
   "language": "python",
   "name": "python3"
  },
  "language_info": {
   "codemirror_mode": {
    "name": "ipython",
    "version": 3
   },
   "file_extension": ".py",
   "mimetype": "text/x-python",
   "name": "python",
   "nbconvert_exporter": "python",
   "pygments_lexer": "ipython3",
   "version": "3.6.6"
  }
 },
 "nbformat": 4,
 "nbformat_minor": 2
}
