{
 "cells": [
  {
   "cell_type": "code",
   "execution_count": 1,
   "metadata": {},
   "outputs": [],
   "source": [
    "import torch\n",
    "import torch.nn as nn\n",
    "from flyai.dataset import Dataset\n",
    "from torch.optim import Adam\n",
    "\n",
    "from model import Model\n",
    "from net import Net,FashionSimpleNet\n",
    "from path import MODEL_PATH\n"
   ]
  },
  {
   "cell_type": "code",
   "execution_count": 2,
   "metadata": {},
   "outputs": [],
   "source": [
    "cnn = FashionSimpleNet()\n",
    "optimizer = Adam(cnn.parameters(), lr=0.001, betas=(0.9, 0.999))  # 选用AdamOptimizer\n",
    "loss_fn = nn.CrossEntropyLoss()  # 定义损失函数\n",
    "\n",
    "# 训练并评估模型\n",
    "\n",
    "data = Dataset()\n",
    "model = Model(data)"
   ]
  },
  {
   "cell_type": "code",
   "execution_count": 5,
   "metadata": {},
   "outputs": [
    {
     "data": {
      "text/plain": [
       "4"
      ]
     },
     "execution_count": 5,
     "metadata": {},
     "output_type": "execute_result"
    }
   ],
   "source": [
    "len(data.get_all_data())"
   ]
  },
  {
   "cell_type": "code",
   "execution_count": null,
   "metadata": {},
   "outputs": [],
   "source": [
    "import argparse\n",
    "import torch\n",
    "import torch.nn as nn\n",
    "from flyai.dataset import Dataset\n",
    "from torch.optim import Adam\n",
    "\n",
    "from model import Model\n",
    "from net import Net,FashionSimpleNet\n",
    "from path import MODEL_PATH\n",
    "\n",
    "parser = argparse.ArgumentParser()\n",
    "parser.add_argument(\"-e\", \"--EPOCHS\", default=10, type=int, help=\"train epochs\")\n",
    "parser.add_argument(\"-b\", \"--BATCH\", default=1, type=int, help=\"batch size\")\n",
    "args = parser.parse_args()\n",
    "\n",
    "\n",
    "\n",
    "def eval(model, x_test, y_test):\n",
    "    cnn = Net()\n",
    "    cnn.eval()\n",
    "    batch_eval = model.batch_iter(x_test, y_test)\n",
    "    total_acc = 0.0\n",
    "    data_len = len(x_test)\n",
    "    for x_batch, y_batch in batch_eval:\n",
    "        batch_len = len(x_batch)\n",
    "        outputs = cnn(x_batch)\n",
    "        _, prediction = torch.max(outputs.data, 1)\n",
    "        correct = (prediction == y_batch).sum().item()\n",
    "        acc = correct / batch_len\n",
    "        total_acc += acc * batch_len\n",
    "    return total_acc / data_len\n",
    "\n",
    "\n",
    "#cnn = Net()\n",
    "cnn = FashionSimpleNet()\n",
    "optimizer = Adam(cnn.parameters(), lr=0.001, betas=(0.9, 0.999))  # 选用AdamOptimizer\n",
    "loss_fn = nn.CrossEntropyLoss()  # 定义损失函数\n",
    "\n",
    "# 训练并评估模型\n",
    "\n",
    "data = Dataset()\n",
    "model = Model(data)\n",
    "\n",
    "best_accuracy = 0\n",
    "for i in range(args.EPOCHS):\n",
    "    cnn.train()\n",
    "    x_train, y_train, x_test, y_test = data.next_batch(args.BATCH)  # 读取数据\n",
    "\n",
    "    x_train = torch.from_numpy(x_train)\n",
    "    y_train = torch.from_numpy(y_train)\n",
    "\n",
    "    x_test = torch.from_numpy(x_test)\n",
    "    y_test = torch.from_numpy(y_test)\n",
    "\n",
    "    optimizer.zero_grad()\n",
    "\n",
    "    outputs = cnn(x_train)\n",
    "    # calculate the loss according to labels\n",
    "    loss = loss_fn(outputs, y_train)\n",
    "    # backward transmit loss\n",
    "    loss.backward()\n",
    "\n",
    "    _, prediction = torch.max(outputs.data, 1)\n",
    "\n",
    "    # adjust parameters using Adam\n",
    "    optimizer.step()\n",
    "\n",
    "    # 若测试准确率高于当前最高准确率，则保存模型\n",
    "    train_accuracy = eval(model, x_test, y_test)\n",
    "    if train_accuracy > best_accuracy:\n",
    "        best_accuracy = train_accuracy\n",
    "        model.save_model(cnn, MODEL_PATH, overwrite=True)\n",
    "        print(\"step %d, best accuracy %g\" % (i, best_accuracy))\n",
    "\n",
    "    print(str(i) + \"/\" + str(args.EPOCHS))\n"
   ]
  }
 ],
 "metadata": {
  "kernelspec": {
   "display_name": "Python 3",
   "language": "python",
   "name": "python3"
  },
  "language_info": {
   "codemirror_mode": {
    "name": "ipython",
    "version": 3
   },
   "file_extension": ".py",
   "mimetype": "text/x-python",
   "name": "python",
   "nbconvert_exporter": "python",
   "pygments_lexer": "ipython3",
   "version": "3.6.6"
  }
 },
 "nbformat": 4,
 "nbformat_minor": 2
}
