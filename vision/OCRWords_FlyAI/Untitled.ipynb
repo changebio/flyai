{
 "cells": [
  {
   "cell_type": "code",
   "execution_count": 1,
   "metadata": {},
   "outputs": [],
   "source": [
    "# -*- coding: utf-8 -*\n",
    "# author Huangyin\n",
    "\n",
    "from __future__ import print_function\n",
    "import argparse\n",
    "import torch\n",
    "import torch.nn as nn\n",
    "import torch.nn.functional as F\n",
    "import torch.optim as optim\n",
    "import torchvision\n",
    "from torchvision import transforms\n",
    "from torch.optim import Adam\n",
    "from torch.autograd import Variable\n",
    "\n",
    "from flyai.dataset import Dataset\n",
    "from flyai.source.base import DATA_PATH\n",
    "\n",
    "from model import Model\n",
    "from path import MODEL_PATH\n",
    "from processor import DatasetFlyAI\n",
    "from utils import Bunch\n",
    " "
   ]
  },
  {
   "cell_type": "code",
   "execution_count": 2,
   "metadata": {},
   "outputs": [],
   "source": [
    "   \n",
    "\n",
    "    \n",
    "def pretrained_net(net,class_num):\n",
    "    if net=='densenet121':\n",
    "        cnn = torchvision.models.densenet121(pretrained=True)\n",
    "        for param in cnn.parameters():\n",
    "            param.requires_grad = False\n",
    "        num_features = cnn.classifier.in_features\n",
    "        cnn.classifier = nn.Linear(num_features, class_num)\n",
    "    elif net=='resnet34':\n",
    "        cnn = torchvision.models.resnet34(pretrained=True)\n",
    "        for param in cnn.parameters():\n",
    "            param.requires_grad = False\n",
    "        num_features = cnn.fc.in_features\n",
    "        cnn.fc = nn.Sequential(nn.Linear(num_features, class_num),nn.Sigmoid())\n",
    "    return cnn\n",
    "\n",
    "def score(p,y):\n",
    "    _,yp = torch.max(p.data,1)\n",
    "    return (yp == y).sum().item()/len(y)\n",
    "\n",
    "\n",
    "    \n",
    "def eval(model, x_test, y_test):\n",
    "    net.eval()\n",
    "    batch_eval = model.batch_iter(x_test, y_test)\n",
    "    total_acc = 0.0\n",
    "    data_len = len(x_test)\n",
    "    for x_batch, y_batch in batch_eval:\n",
    "        batch_len = len(x_batch)\n",
    "        outputs = net(x_batch)\n",
    "        _, prediction = torch.max(outputs.data, 1)\n",
    "        correct = (prediction == y_batch).sum().item()\n",
    "        acc = correct / batch_len\n",
    "        total_acc += acc * batch_len\n",
    "    return total_acc / data_len\n",
    "       "
   ]
  },
  {
   "cell_type": "code",
   "execution_count": 9,
   "metadata": {},
   "outputs": [],
   "source": [
    "parser = argparse.ArgumentParser()\n",
    "parser.add_argument(\"-e\", \"--EPOCHS\", default=10, type=int, help=\"train epochs\")\n",
    "parser.add_argument(\"-b\", \"--BATCH\", default=32, type=int, help=\"batch size\")\n",
    "args = parser.parse_args([])"
   ]
  },
  {
   "cell_type": "code",
   "execution_count": 10,
   "metadata": {},
   "outputs": [
    {
     "data": {
      "text/plain": [
       "{'EPOCHS': 10, 'BATCH': 32}"
      ]
     },
     "execution_count": 10,
     "metadata": {},
     "output_type": "execute_result"
    }
   ],
   "source": [
    "vars(args)"
   ]
  },
  {
   "cell_type": "code",
   "execution_count": 11,
   "metadata": {},
   "outputs": [
    {
     "name": "stdout",
     "output_type": "stream",
     "text": [
      "1.settings {'net': 'densenet121', 'nc': 3995, 'lr': 0.001, 'seed': 1, 'log_interval': 100, 'save_model': True}\n",
      "32 3.125\n",
      "2. load data. train_dataset 100,batch 3, val_dataset 100, batch 3.\n",
      "3.load net structure: densenet121, number of class: 3995\n"
     ]
    },
    {
     "name": "stderr",
     "output_type": "stream",
     "text": [
      "/home/changebio/anaconda3/envs/fastv1/lib/python3.6/site-packages/torchvision/models/densenet.py:212: UserWarning: nn.init.kaiming_normal is now deprecated in favor of nn.init.kaiming_normal_.\n",
      "  nn.init.kaiming_normal(m.weight.data)\n"
     ]
    },
    {
     "name": "stdout",
     "output_type": "stream",
     "text": [
      "4.optimize and loss. learning rate 0.001\n",
      "5.***************train and test*********************\n"
     ]
    }
   ],
   "source": [
    "#settings\n",
    "settings = {\n",
    "'net':'densenet121',\n",
    "'nc':3995,    \n",
    "'lr': 0.001,\n",
    "'seed': 1,\n",
    "'log_interval': 100,\n",
    "'save_model': True}\n",
    "print(\"1.settings\",settings)\n",
    "settings = Bunch(settings)\n",
    "use_cuda = torch.cuda.is_available()\n",
    "torch.manual_seed(settings.seed)\n",
    "device = torch.device(\"cuda\" if use_cuda else \"cpu\")\n",
    "kwargs = {'num_workers': 0, 'pin_memory': True} if use_cuda else {}\n",
    "\n",
    "#load data\n",
    "data = Dataset()\n",
    "model = Model(data)\n",
    "normalize = transforms.Normalize(mean=[0.485, 0.456, 0.406],std=[0.229, 0.224, 0.225])\n",
    "train_transforms= transforms.Compose([\n",
    "    transforms.RandomResizedCrop(224),\n",
    "    transforms.RandomHorizontalFlip(),\n",
    "    transforms.ToTensor(),\n",
    "    normalize,\n",
    "])\n",
    "val_transforms = transforms.Compose([\n",
    "    transforms.Resize(256),\n",
    "    transforms.CenterCrop(224),\n",
    "    transforms.ToTensor(),\n",
    "    normalize,\n",
    "])\n",
    "train_dataset = DatasetFlyAI(root=DATA_PATH,df=data.db.source.data,transform=train_transforms)\n",
    "val_dataset = DatasetFlyAI(root=DATA_PATH,df=data.db.source.test,transform=val_transforms)\n",
    "train_loader = torch.utils.data.DataLoader(train_dataset,\n",
    "    batch_size=args.BATCH, shuffle=True, **kwargs)\n",
    "test_loader = torch.utils.data.DataLoader(val_dataset,\n",
    "    batch_size=args.BATCH, shuffle=True, **kwargs)\n",
    "n_train = len(train_dataset)\n",
    "batch_train = n_train/args.BATCH\n",
    "print(args.BATCH,n_train/args.BATCH)\n",
    "n_test = len(val_dataset)\n",
    "batch_test = n_test/args.BATCH\n",
    "print(\"2. load data. train_dataset %d,batch %d, val_dataset %d, batch %d.\" % (n_train,batch_train,n_test,batch_test))\n",
    "\n",
    "#load net structure\n",
    "print(\"3.load net structure: %s, number of class: %d\" % (settings.net,settings.nc))\n",
    "net = pretrained_net(settings.net,settings.nc)\n",
    "net = pretrained_net('densenet121',256)\n",
    "gpu = torch.cuda.is_available()\n",
    "if gpu:\n",
    "    net.cuda()\n",
    "#optimize and loss\n",
    "print(\"4.optimize and loss. learning rate %g\" % settings.lr)\n",
    "optimizer = Adam(net.parameters(), lr=settings.lr, betas=(0.9, 0.999)) \n",
    "#optimizer = Adam(net.parameters(), lr=0.001, betas=(0.9, 0.999))  \n",
    "loss_fn = nn.CrossEntropyLoss()  \n",
    "\n",
    "#train and test\n",
    "print(\"5.***************train and test*********************\")\n",
    "best_accuracy = 0\n",
    "train_iter = iter(train_loader)\n",
    "batch_idx = 0"
   ]
  },
  {
   "cell_type": "code",
   "execution_count": 12,
   "metadata": {},
   "outputs": [
    {
     "name": "stdout",
     "output_type": "stream",
     "text": [
      "0 data len 32 32\n",
      "tensor([2242, 1387, 1693, 2842,    8, 1590, 1293, 1672, 3347, 3406,  358, 3259,\n",
      "        2690, 1219, 3272, 3625, 2280, 1204,  533, 3409, 3695, 1492, 2564, 1873,\n",
      "        1132, 3811,  708,  890, 2381, 2251, 1416, 1969])\n",
      "[<class 'torch.Tensor'>, <class 'torch.Tensor'>, <class 'torch.Tensor'>, <class 'torch.Tensor'>, <class 'torch.Tensor'>, <class 'torch.Tensor'>, <class 'torch.Tensor'>, <class 'torch.Tensor'>, <class 'torch.Tensor'>, <class 'torch.Tensor'>, <class 'torch.Tensor'>, <class 'torch.Tensor'>, <class 'torch.Tensor'>, <class 'torch.Tensor'>, <class 'torch.Tensor'>, <class 'torch.Tensor'>, <class 'torch.Tensor'>, <class 'torch.Tensor'>, <class 'torch.Tensor'>, <class 'torch.Tensor'>, <class 'torch.Tensor'>, <class 'torch.Tensor'>, <class 'torch.Tensor'>, <class 'torch.Tensor'>, <class 'torch.Tensor'>, <class 'torch.Tensor'>, <class 'torch.Tensor'>, <class 'torch.Tensor'>, <class 'torch.Tensor'>, <class 'torch.Tensor'>, <class 'torch.Tensor'>, <class 'torch.Tensor'>]\n"
     ]
    }
   ],
   "source": [
    "x_train, y_train = next(train_iter)\n",
    "print(batch_idx,\"data len\",len(x_train),len(y_train))\n",
    "print(y_train)\n",
    "print([type(i) for i in y_train])"
   ]
  },
  {
   "cell_type": "code",
   "execution_count": 13,
   "metadata": {},
   "outputs": [
    {
     "data": {
      "text/plain": [
       "tensor(2242)"
      ]
     },
     "execution_count": 13,
     "metadata": {},
     "output_type": "execute_result"
    }
   ],
   "source": [
    "y_train[0]"
   ]
  },
  {
   "cell_type": "code",
   "execution_count": null,
   "metadata": {},
   "outputs": [],
   "source": [
    "for i in range(args.EPOCHS):\n",
    "    #net.train()\n",
    "    #x_train, y_train, x_test, y_test = data.next_batch(args.BATCH) \n",
    "    #x_train = torch.from_numpy(x_train)\n",
    "    #y_train = torch.from_numpy(y_train)\n",
    "    #x_train = x_train.float()\n",
    "    try:\n",
    "        batch_idx +=1\n",
    "        x_train, y_train = next(train_iter)\n",
    "        print(batch_idx,\"data len\",len(x_train),len(y_train))\n",
    "        print(y_train)\n",
    "        print([type(i) for i in y_train])\n",
    "    except:\n",
    "        batch_idx = 0\n",
    "        train_iter = iter(train_loader)\n",
    "        x_train, y_train = next(train_iter)\n",
    "        print(len(x_train),len(y_train),\"data len\")\n",
    "\n",
    "    if gpu:\n",
    "        x_train = Variable(x_train.cuda())\n",
    "        y_train = Variable(y_train.cuda())\n",
    "\n",
    "\n",
    "    outputs = net(x_train)\n",
    "    optimizer.zero_grad()\n",
    "    loss = loss_fn(outputs, y_train)\n",
    "    loss.backward()\n",
    "    optimizer.step()\n",
    "    if batch_idx % settings.log_interval == 0:\n",
    "        print('Train Epoch: {} [{}/{} ({:.0f}%)]\\tLoss: {:.6f}'.format(\n",
    "            i, batch_idx * len(x_train), len(train_loader.dataset),\n",
    "            100. * batch_idx / len(train_loader), loss.item()))\n",
    "\n",
    "if settings.save_model:       \n",
    "    model.save_model(net, MODEL_PATH, overwrite=True)"
   ]
  }
 ],
 "metadata": {
  "kernelspec": {
   "display_name": "Python 3",
   "language": "python",
   "name": "python3"
  },
  "language_info": {
   "codemirror_mode": {
    "name": "ipython",
    "version": 3
   },
   "file_extension": ".py",
   "mimetype": "text/x-python",
   "name": "python",
   "nbconvert_exporter": "python",
   "pygments_lexer": "ipython3",
   "version": "3.6.6"
  }
 },
 "nbformat": 4,
 "nbformat_minor": 2
}
