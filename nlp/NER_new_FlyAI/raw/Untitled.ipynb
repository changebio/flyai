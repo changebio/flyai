{
 "cells": [
  {
   "cell_type": "code",
   "execution_count": 1,
   "metadata": {},
   "outputs": [],
   "source": [
    "# -*- coding: utf-8 -*\n",
    "import os\n",
    "\n",
    "from flyai.processor.base import Base\n",
    "from path import DATA_PATH\n",
    "import json\n",
    "import config\n",
    "import numpy as np\n",
    "import chardet\n",
    "\n",
    "class Processor(Base):\n",
    "    def __init__(self):\n",
    "        self.token = None\n",
    "        self.label_dic=config.label_dic\n",
    "        with open(config.src_vocab_file, 'r') as fw:\n",
    "            self.words_dic = json.load(fw)\n",
    "\n",
    "    def input_x(self, source):\n",
    "        '''\n",
    "        参数为csv中作为输入x的一条数据，该方法会被Dataset多次调用\n",
    "        '''\n",
    "        sen2id=[]\n",
    "        source=source.split()\n",
    "        for s in source:\n",
    "            if s in self.words_dic:\n",
    "                sen2id.append(self.words_dic[s])\n",
    "            else:\n",
    "                sen2id.append(config.src_unknown_id)\n",
    "        return sen2id\n",
    "\n",
    "    def input_y(self, target):\n",
    "        '''\n",
    "        参数为csv中作为输入y的一条数据，该方法会被Dataset多次调用\n",
    "        '''\n",
    "        label2id = []\n",
    "        target = target.split()\n",
    "        for t in target:\n",
    "            label2id.append(self.label_dic.index(t))\n",
    "        return label2id\n",
    "\n",
    "    def output_y(self, index):\n",
    "        '''\n",
    "        验证时使用，把模型输出的y转为对应的结果\n",
    "        '''\n",
    "        label=[]\n",
    "        for i in index:\n",
    "            if i !=config.label_len-1:\n",
    "                label.append(config.label_dic[i])\n",
    "            else:\n",
    "                break\n",
    "        return label\n",
    "\n",
    "\n",
    "\n",
    "\n",
    "\n",
    "\n"
   ]
  },
  {
   "cell_type": "code",
   "execution_count": 2,
   "metadata": {},
   "outputs": [],
   "source": [
    "a = Processor()"
   ]
  },
  {
   "cell_type": "code",
   "execution_count": 15,
   "metadata": {},
   "outputs": [
    {
     "data": {
      "text/plain": [
       "20912"
      ]
     },
     "execution_count": 15,
     "metadata": {},
     "output_type": "execute_result"
    }
   ],
   "source": [
    "config.src_unknown_id"
   ]
  },
  {
   "cell_type": "code",
   "execution_count": 13,
   "metadata": {},
   "outputs": [
    {
     "data": {
      "text/plain": [
       "[10, 9, 9, 9, 9]"
      ]
     },
     "execution_count": 13,
     "metadata": {},
     "output_type": "execute_result"
    }
   ],
   "source": [
    "a.input_y(trn.iloc[1,1])"
   ]
  },
  {
   "cell_type": "code",
   "execution_count": 5,
   "metadata": {},
   "outputs": [],
   "source": [
    "from utils import load_data"
   ]
  },
  {
   "cell_type": "code",
   "execution_count": 6,
   "metadata": {},
   "outputs": [
    {
     "name": "stdout",
     "output_type": "stream",
     "text": [
      "[PosixPath('__pycache__'), PosixPath('processor.py'), PosixPath('utils.py'), PosixPath('path.py'), PosixPath('data'), PosixPath('Untitled.ipynb'), PosixPath('predict.py'), PosixPath('__init__.py'), PosixPath('model.py'), PosixPath('app.yaml'), PosixPath('transformation.py'), PosixPath('test.py'), PosixPath('main.py'), PosixPath('config.py'), PosixPath('.ipynb_checkpoints')]\n",
      "[PosixPath('data/output'), PosixPath('data/input')]\n",
      "{'id': 'NER_new', 'type': 'csv', 'config': {'train_url': 'https://dataset.flyai.com/dataset/NER_new/dev.zip', 'test_url': 'https://dataset.flyai.com/dataset/NER_new/dev.zip'}}\n",
      "[200, 100, '他们 自知 货量 不足 ， 在 货内 夹放 一 字条 ： 『 下 欠 配件 遂 （ 随 ） 后 即发 』 。', 2]\n",
      "[200, 90, 'O O O O O O O O O O O O O O O O O O O O', 6]\n",
      "O O O O O O O O O O O O O O O O O O O O                                                                                                  6\n",
      "O O O O O O O O O O O O O O O O O O O O O O O O O                                                                                        6\n",
      "O O O O O O O O O O O O O O O O                                                                                                          4\n",
      "O O O O O O O O O O O O O                                                                                                                4\n",
      "O O O O O O O O O O O O O O                                                                                                              4\n",
      "B-CRIME I-CRIME I-CRIME                                                                                                                  4\n",
      "O O O O O O O O O O O O O O O O O O O O O O O                                                                                            4\n",
      "O O O O O O O O O O O O O O O O O O O O O O O O O O O O O O O O O                                                                        4\n",
      "O O O O O B-LOC O B-LOC O O O O O O O O O O B-LOC O O O O O O O O O O O O O O O O O O O O O O O O O O O O O O O O O O O O O O O O O O    2\n",
      "O O O O O O O O O O O O O O O O O O O O O O B-ORG I-ORG O                                                                                2\n",
      "Name: target, dtype: int64\n"
     ]
    }
   ],
   "source": [
    "trn,val = load_data()"
   ]
  },
  {
   "cell_type": "code",
   "execution_count": null,
   "metadata": {},
   "outputs": [],
   "source": []
  }
 ],
 "metadata": {
  "kernelspec": {
   "display_name": "Python 3",
   "language": "python",
   "name": "python3"
  },
  "language_info": {
   "codemirror_mode": {
    "name": "ipython",
    "version": 3
   },
   "file_extension": ".py",
   "mimetype": "text/x-python",
   "name": "python",
   "nbconvert_exporter": "python",
   "pygments_lexer": "ipython3",
   "version": "3.6.8"
  }
 },
 "nbformat": 4,
 "nbformat_minor": 2
}
